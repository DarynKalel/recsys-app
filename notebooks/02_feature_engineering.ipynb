{
 "cells": [
  {
   "cell_type": "code",
   "execution_count": 26,
   "metadata": {},
   "outputs": [
    {
     "name": "stdout",
     "output_type": "stream",
     "text": [
      "   user_id  age country\n",
      "0        1   42      JP\n",
      "1        2   38      JP\n",
      "2        3   31      JP\n",
      "3        4   20      NL\n",
      "4        5   42      US\n",
      "   item_id    title   genre\n",
      "0        1  Movie 1  Sci-Fi\n",
      "1        2  Movie 2  Sci-Fi\n",
      "2        3  Movie 3  Sci-Fi\n",
      "3        4  Movie 4  Action\n",
      "4        5  Movie 5  Sci-Fi\n",
      "   user_id  item_id  rating\n",
      "0        7        7       4\n",
      "1        4       11       3\n",
      "2        1        7       1\n",
      "3        6        1       2\n",
      "4        5       10       5\n"
     ]
    }
   ],
   "source": [
    "import pandas as pd\n",
    "\n",
    "#Load a dataset\n",
    "users = pd.read_csv(\"C:/Users/Alikh/recsys-project/sql/users.csv\")\n",
    "items = pd.read_csv(\"C:/Users/Alikh/recsys-project/sql/items.csv\")\n",
    "interactions = pd.read_csv(\"C:/Users/Alikh/recsys-project/sql/interactions.csv\")\n",
    "\n",
    "print(users.head())\n",
    "print(items.head())\n",
    "print(interactions.head())"
   ]
  },
  {
   "cell_type": "code",
   "execution_count": 27,
   "metadata": {},
   "outputs": [
    {
     "name": "stdout",
     "output_type": "stream",
     "text": [
      "   user_id  age country  country_encoded\n",
      "0        1   42      JP                0\n",
      "1        2   38      JP                0\n",
      "2        3   31      JP                0\n",
      "3        4   20      NL                1\n",
      "4        5   42      US                2\n"
     ]
    }
   ],
   "source": [
    "from sklearn.preprocessing import LabelEncoder\n",
    "\n",
    "users_features = users.copy()\n",
    "encoder = LabelEncoder()\n",
    "users_features[\"country_encoded\"] = encoder.fit_transform(users_features[\"country\"])\n",
    "\n",
    "print(users_features.head())\n"
   ]
  },
  {
   "cell_type": "code",
   "execution_count": 28,
   "metadata": {},
   "outputs": [
    {
     "name": "stdout",
     "output_type": "stream",
     "text": [
      "   item_id    title  genre_Action  genre_Comedy  genre_Drama  genre_Sci-Fi\n",
      "0        1  Movie 1         False         False        False          True\n",
      "1        2  Movie 2         False         False        False          True\n",
      "2        3  Movie 3         False         False        False          True\n",
      "3        4  Movie 4          True         False        False         False\n",
      "4        5  Movie 5         False         False        False          True\n"
     ]
    }
   ],
   "source": [
    "#Item features\n",
    "#One-hot encode\n",
    "\n",
    "item_features = pd.get_dummies(items, columns=[\"genre\"])\n",
    "print(item_features.head())"
   ]
  },
  {
   "cell_type": "code",
   "execution_count": 29,
   "metadata": {},
   "outputs": [
    {
     "name": "stdout",
     "output_type": "stream",
     "text": [
      "item_id   1    2    3    4    5    6    7    8    9    10   11   12   13   15\n",
      "user_id                                                                      \n",
      "1        0.0  0.0  0.0  0.0  0.0  0.0  1.0  0.0  0.0  0.0  0.0  0.0  0.0  0.0\n",
      "2        0.0  4.5  1.0  3.0  0.0  1.0  2.5  0.0  0.0  0.0  0.0  0.0  4.0  0.0\n",
      "3        5.0  1.0  0.0  0.0  1.0  0.0  0.0  0.0  0.0  0.0  0.0  0.0  0.0  0.0\n",
      "4        0.0  0.0  0.0  3.0  0.0  0.0  1.0  0.0  0.0  0.0  3.0  0.0  0.0  0.0\n",
      "5        3.0  0.0  0.0  0.0  0.0  1.0  0.0  0.0  0.0  5.0  0.0  0.0  0.0  3.0\n"
     ]
    }
   ],
   "source": [
    "#User-item interaction matrix - Core of collaborative filtering\n",
    "\n",
    "user_item_matrix = interactions.pivot_table(\n",
    "    index = \"user_id\",\n",
    "    columns = \"item_id\",\n",
    "    values = \"rating\"\n",
    ").fillna(0)\n",
    "\n",
    "print(user_item_matrix.head())"
   ]
  },
  {
   "cell_type": "code",
   "execution_count": 30,
   "metadata": {},
   "outputs": [],
   "source": [
    "#Save processed features\n",
    "\n",
    "users_features.to_csv(\"C:/Users/Alikh/recsys-project/sql/users_features.csv\", index=False)\n",
    "item_features.to_csv(\"C:/Users/Alikh/recsys-project/sql/item_features.csv\", index=False)\n",
    "user_item_matrix.to_csv(\"C:/Users/Alikh/recsys-project/sql/user_item_matrix.csv\")"
   ]
  }
 ],
 "metadata": {
  "kernelspec": {
   "display_name": "Python 3",
   "language": "python",
   "name": "python3"
  },
  "language_info": {
   "codemirror_mode": {
    "name": "ipython",
    "version": 3
   },
   "file_extension": ".py",
   "mimetype": "text/x-python",
   "name": "python",
   "nbconvert_exporter": "python",
   "pygments_lexer": "ipython3",
   "version": "3.10.0"
  }
 },
 "nbformat": 4,
 "nbformat_minor": 2
}
