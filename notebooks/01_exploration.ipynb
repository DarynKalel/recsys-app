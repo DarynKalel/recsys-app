{
 "cells": [
  {
   "cell_type": "code",
   "execution_count": 4,
   "metadata": {},
   "outputs": [
    {
     "data": {
      "text/html": [
       "<div>\n",
       "<style scoped>\n",
       "    .dataframe tbody tr th:only-of-type {\n",
       "        vertical-align: middle;\n",
       "    }\n",
       "\n",
       "    .dataframe tbody tr th {\n",
       "        vertical-align: top;\n",
       "    }\n",
       "\n",
       "    .dataframe thead th {\n",
       "        text-align: right;\n",
       "    }\n",
       "</style>\n",
       "<table border=\"1\" class=\"dataframe\">\n",
       "  <thead>\n",
       "    <tr style=\"text-align: right;\">\n",
       "      <th></th>\n",
       "      <th>user_id</th>\n",
       "      <th>item_id</th>\n",
       "      <th>event</th>\n",
       "    </tr>\n",
       "  </thead>\n",
       "  <tbody>\n",
       "    <tr>\n",
       "      <th>0</th>\n",
       "      <td>1</td>\n",
       "      <td>101</td>\n",
       "      <td>click</td>\n",
       "    </tr>\n",
       "    <tr>\n",
       "      <th>1</th>\n",
       "      <td>1</td>\n",
       "      <td>102</td>\n",
       "      <td>purchase</td>\n",
       "    </tr>\n",
       "    <tr>\n",
       "      <th>2</th>\n",
       "      <td>2</td>\n",
       "      <td>101</td>\n",
       "      <td>click</td>\n",
       "    </tr>\n",
       "    <tr>\n",
       "      <th>3</th>\n",
       "      <td>2</td>\n",
       "      <td>103</td>\n",
       "      <td>click</td>\n",
       "    </tr>\n",
       "    <tr>\n",
       "      <th>4</th>\n",
       "      <td>3</td>\n",
       "      <td>104</td>\n",
       "      <td>view</td>\n",
       "    </tr>\n",
       "    <tr>\n",
       "      <th>5</th>\n",
       "      <td>3</td>\n",
       "      <td>105</td>\n",
       "      <td>purchase</td>\n",
       "    </tr>\n",
       "  </tbody>\n",
       "</table>\n",
       "</div>"
      ],
      "text/plain": [
       "   user_id  item_id     event\n",
       "0        1      101     click\n",
       "1        1      102  purchase\n",
       "2        2      101     click\n",
       "3        2      103     click\n",
       "4        3      104      view\n",
       "5        3      105  purchase"
      ]
     },
     "execution_count": 4,
     "metadata": {},
     "output_type": "execute_result"
    }
   ],
   "source": [
    "import pandas as pd\n",
    "\n",
    "#Fake interaction dataset\n",
    "data = {\n",
    "    \"user_id\": [1, 1, 2, 2, 3, 3],\n",
    "    \"item_id\": [101, 102, 101, 103, 104, 105],\n",
    "    \"event\": [\"click\", \"purchase\", \"click\", \"click\", \"view\", \"purchase\"], \n",
    "}\n",
    "\n",
    "df = pd.DataFrame(data)\n",
    "df"
   ]
  },
  {
   "cell_type": "code",
   "execution_count": 5,
   "metadata": {},
   "outputs": [
    {
     "name": "stdout",
     "output_type": "stream",
     "text": [
      "Users:\n",
      "   user_id  age country\n",
      "0        1   42      JP\n",
      "1        2   38      JP\n",
      "2        3   31      JP\n",
      "3        4   20      NL\n",
      "4        5   42      US\n",
      "\n",
      "Items:\n",
      "   item_id    title   genre\n",
      "0        1  Movie 1  Sci-Fi\n",
      "1        2  Movie 2  Sci-Fi\n",
      "2        3  Movie 3  Sci-Fi\n",
      "3        4  Movie 4  Action\n",
      "4        5  Movie 5  Sci-Fi\n",
      "\n",
      "Interactions:\n",
      "   user_id  item_id  rating\n",
      "0        7        7       4\n",
      "1        4       11       3\n",
      "2        1        7       1\n",
      "3        6        1       2\n",
      "4        5       10       5\n"
     ]
    }
   ],
   "source": [
    "import pandas as pd\n",
    "import numpy as np\n",
    "\n",
    "#Users\n",
    "users = pd.DataFrame({\n",
    "    \"user_id\": np.arange(1, 11),\n",
    "    \"age\": np.random.randint(18, 50, size = 10),\n",
    "    \"country\": np.random.choice([\"KZ\", \"US\", \"JP\", \"NL\"], size=10)\n",
    "})\n",
    "\n",
    "#Movies\n",
    "items = pd.DataFrame({\n",
    "    \"item_id\": np.arange(1, 16),\n",
    "    \"title\": [f\"Movie {i}\" for i in range(1, 16)],\n",
    "    \"genre\": np.random.choice([\"Action\", \"Comedy\", \"Drama\", \"Sci-Fi\"], size=15)\n",
    "})\n",
    "\n",
    "#User-item interactions (ratings)\n",
    "interactions = pd.DataFrame({\n",
    "    \"user_id\": np.random.choice(users[\"user_id\"], size=40),\n",
    "    \"item_id\": np.random.choice(items[\"item_id\"], size=40),\n",
    "    \"rating\": np.random.randint(1, 6, size=40)\n",
    "})\n",
    "\n",
    "print(\"Users:\")\n",
    "print(users.head())\n",
    "print(\"\\nItems:\")\n",
    "print(items.head())\n",
    "print(\"\\nInteractions:\")\n",
    "print(interactions.head())"
   ]
  },
  {
   "cell_type": "code",
   "execution_count": 6,
   "metadata": {},
   "outputs": [],
   "source": [
    "users.to_csv(\"C:/Users/Alikh/recsys-project/sql/users.csv\", index=False)\n",
    "items.to_csv(\"C:/Users/Alikh/recsys-project/sql/items.csv\", index=False)\n",
    "interactions.to_csv(\"C:/Users/Alikh/recsys-project/sql/interactions.csv\", index=False)\n"
   ]
  }
 ],
 "metadata": {
  "kernelspec": {
   "display_name": "Python 3",
   "language": "python",
   "name": "python3"
  },
  "language_info": {
   "codemirror_mode": {
    "name": "ipython",
    "version": 3
   },
   "file_extension": ".py",
   "mimetype": "text/x-python",
   "name": "python",
   "nbconvert_exporter": "python",
   "pygments_lexer": "ipython3",
   "version": "3.10.0"
  }
 },
 "nbformat": 4,
 "nbformat_minor": 2
}
