{
 "cells": [
  {
   "cell_type": "code",
   "execution_count": 1,
   "metadata": {},
   "outputs": [
    {
     "name": "stdout",
     "output_type": "stream",
     "text": [
      "   user_id  age country  country_encoded\n",
      "0        1   42      JP                0\n",
      "1        2   38      JP                0\n",
      "2        3   31      JP                0\n",
      "3        4   20      NL                1\n",
      "4        5   42      US                2\n",
      "   item_id    title  genre_Action  genre_Comedy  genre_Drama  genre_Sci-Fi\n",
      "0        1  Movie 1         False         False        False          True\n",
      "1        2  Movie 2         False         False        False          True\n",
      "2        3  Movie 3         False         False        False          True\n",
      "3        4  Movie 4          True         False        False         False\n",
      "4        5  Movie 5         False         False        False          True\n",
      "   user_id  item_id  rating\n",
      "0        7        7       4\n",
      "1        4       11       3\n",
      "2        1        7       1\n",
      "3        6        1       2\n",
      "4        5       10       5\n"
     ]
    }
   ],
   "source": [
    "import pandas as pd\n",
    "\n",
    "#Load processed features\n",
    "user_features = pd.read_csv(\"C:/Users/Alikh/recsys-project/sql/users_features.csv\")\n",
    "item_features = pd.read_csv(\"C:/Users/Alikh/recsys-project/sql/item_features.csv\")\n",
    "interactions = pd.read_csv(\"C:/Users/Alikh/recsys-project/sql/interactions.csv\")\n",
    "\n",
    "print(user_features.head())\n",
    "print(item_features.head())\n",
    "print(interactions.head())"
   ]
  },
  {
   "cell_type": "code",
   "execution_count": 2,
   "metadata": {},
   "outputs": [
    {
     "name": "stdout",
     "output_type": "stream",
     "text": [
      "(10, 15)\n"
     ]
    }
   ],
   "source": [
    "#Build interaction matrix\n",
    "#LightFM expects sparse matrix\n",
    "\n",
    "from scipy.sparse import coo_matrix\n",
    "\n",
    "n_users = user_features[\"user_id\"].nunique()\n",
    "n_items = item_features[\"item_id\"].nunique()\n",
    "\n",
    "#Map IDs to index\n",
    "user_id_map = {uid: i for i, uid in enumerate(user_features[\"user_id\"])}\n",
    "item_id_map = {iid: i for i, iid in enumerate(item_features[\"item_id\"])}\n",
    "\n",
    "#Build COO matrix\n",
    "rows = interactions[\"user_id\"].map(user_id_map)\n",
    "cols = interactions[\"item_id\"].map(item_id_map)\n",
    "ratings = interactions[\"rating\"]\n",
    "\n",
    "\n",
    "interaction_matrix = coo_matrix(\n",
    "    (ratings, (rows, cols)),\n",
    "    shape=(n_users, n_items)\n",
    ")\n",
    "\n",
    "print(interaction_matrix.shape)"
   ]
  },
  {
   "cell_type": "code",
   "execution_count": 3,
   "metadata": {},
   "outputs": [
    {
     "name": "stderr",
     "output_type": "stream",
     "text": [
      "c:\\Users\\Alikh\\AppData\\Local\\Programs\\Python\\Python310\\lib\\site-packages\\lightfm\\_lightfm_fast.py:9: UserWarning: LightFM was compiled without OpenMP support. Only a single thread will be used.\n",
      "  warnings.warn(\n"
     ]
    }
   ],
   "source": [
    "import numpy as np\n",
    "import pandas as pd\n",
    "from lightfm import LightFM\n",
    "from lightfm.data import Dataset\n",
    "\n",
    "# Example data\n",
    "users = pd.DataFrame({\n",
    "    \"user_id\": [1, 2, 3, 4, 5],\n",
    "    \"age\": [48, 27, 49, 34, 30],\n",
    "    \"country\": [\"NL\", \"KZ\", \"KZ\", \"KZ\", \"US\"]\n",
    "})\n",
    "\n",
    "items = pd.DataFrame({\n",
    "    \"item_id\": [1, 2, 3, 4, 5],\n",
    "    \"title\": [\"Movie 1\", \"Movie 2\", \"Movie 3\", \"Movie 4\", \"Movie 5\"],\n",
    "    \"genre\": [\"Sci-Fi\", \"Drama\", \"Action\", \"Sci-Fi\", \"Drama\"]\n",
    "})\n",
    "\n",
    "interactions = pd.DataFrame({\n",
    "    \"user_id\": [2, 5, 3, 1, 4],\n",
    "    \"item_id\": [4, 2, 5, 3, 1],\n",
    "    \"rating\": [2, 3, 4, 5, 2]\n",
    "})\n",
    "\n",
    "# Build dataset object\n",
    "dataset = Dataset()\n",
    "dataset.fit(users[\"user_id\"], items[\"item_id\"])\n",
    "\n",
    "(interactions_matrix, weights_matrix) = dataset.build_interactions(\n",
    "    [(u, i, r) for u, i, r in interactions.values]\n",
    ")\n"
   ]
  },
  {
   "cell_type": "code",
   "execution_count": 4,
   "metadata": {},
   "outputs": [
    {
     "ename": "",
     "evalue": "",
     "output_type": "error",
     "traceback": [
      "\u001b[1;31mПри выполнении кода в текущей ячейке или предыдущей ячейке ядро аварийно завершило работу. \n",
      "\u001b[1;31mПроверьте код в ячейках, чтобы определить возможную причину сбоя. \n",
      "\u001b[1;31mЩелкните <a href='https://aka.ms/vscodeJupyterKernelCrash'>здесь</a>, чтобы получить дополнительные сведения. \n",
      "\u001b[1;31mПодробнее см. в <a href='command:jupyter.viewOutput'>журнале Jupyter</a>."
     ]
    }
   ],
   "source": [
    "# Warp = ranking optimization, works well for implicit feedback\n",
    "model = LightFM(loss=\"warp\")\n",
    "model.fit(interactions_matrix, epochs=20, num_threads=2)\n"
   ]
  },
  {
   "cell_type": "code",
   "execution_count": 1,
   "metadata": {},
   "outputs": [
    {
     "name": "stdout",
     "output_type": "stream",
     "text": [
      "   item_id    title\n",
      "0        4  Movie 4\n",
      "1        7  Movie 7\n",
      "2        1  Movie 1\n",
      "3        2  Movie 2\n",
      "4        3  Movie 3\n"
     ]
    }
   ],
   "source": [
    "import pandas as pd\n",
    "\n",
    "# load interactions\n",
    "interactions = pd.read_csv(\"C:/Users/Alikh/recsys-project/sql/interactions.csv\")\n",
    "items = pd.read_csv(\"C:/Users/Alikh/recsys-project/sql/item_features.csv\")\n",
    "\n",
    "# count how many times each item was interacted with\n",
    "popularity = interactions.groupby(\"item_id\").size().reset_index(name=\"count\")\n",
    "popularity = popularity.sort_values(\"count\", ascending=False)\n",
    "\n",
    "def recommend(user_id, n=5):\n",
    "    \"\"\"Return top-n most popular items\"\"\"\n",
    "    recs = popularity.head(n).merge(items, on=\"item_id\", how=\"left\")\n",
    "    return recs[[\"item_id\", \"title\"]]\n",
    "\n",
    "# test\n",
    "print(recommend(user_id=1, n=5))\n"
   ]
  },
  {
   "cell_type": "code",
   "execution_count": null,
   "metadata": {},
   "outputs": [],
   "source": []
  }
 ],
 "metadata": {
  "kernelspec": {
   "display_name": "Python 3",
   "language": "python",
   "name": "python3"
  },
  "language_info": {
   "codemirror_mode": {
    "name": "ipython",
    "version": 3
   },
   "file_extension": ".py",
   "mimetype": "text/x-python",
   "name": "python",
   "nbconvert_exporter": "python",
   "pygments_lexer": "ipython3",
   "version": "3.10.0"
  }
 },
 "nbformat": 4,
 "nbformat_minor": 2
}
